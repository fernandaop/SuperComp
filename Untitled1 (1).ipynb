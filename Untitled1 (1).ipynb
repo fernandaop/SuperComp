{
  "nbformat": 4,
  "nbformat_minor": 0,
  "metadata": {
    "colab": {
      "provenance": [],
      "gpuType": "T4"
    },
    "kernelspec": {
      "name": "python3",
      "display_name": "Python 3"
    },
    "language_info": {
      "name": "python"
    },
    "accelerator": "GPU"
  },
  "cells": [
    {
      "cell_type": "code",
      "source": [
        "%%writefile exercicio1.cu\n",
        "#include <thrust/device_vector.h>\n",
        "#include <thrust/host_vector.h>\n",
        "#include <iostream>\n",
        "#include <fstream>\n",
        "#include <chrono>\n",
        "using namespace std;\n",
        "\n",
        "int main() {\n",
        "    int n = 2518;\n",
        "    double value = 0.0;\n",
        "    std::chrono::duration<double> diff;\n",
        "\n",
        "    // Leitura dos dados na CPU\n",
        "    auto leitura_i = std::chrono::steady_clock::now();\n",
        "    thrust::host_vector<double> host(n, 0);\n",
        "\n",
        "    ifstream inputFile(\"stocks-google.txt\");\n",
        "    if (inputFile.is_open()) {\n",
        "        for (int i = 0; i < n; i++) {\n",
        "            inputFile >> value;\n",
        "            host[i] = value;\n",
        "        }\n",
        "        inputFile.close();\n",
        "    } else {\n",
        "        cerr << \"Erro ao abrir o arquivo.\" << endl;\n",
        "        return 1;\n",
        "    }\n",
        "    auto leitura_f = std::chrono::steady_clock::now();\n",
        "    diff = leitura_f - leitura_i;\n",
        "    cout << \"Tempo de LEITURA (em segundos): \" << diff.count() << endl;\n",
        "\n",
        "    // Transferência dos dados para a GPU\n",
        "    auto copia_i = std::chrono::steady_clock::now();\n",
        "    thrust::device_vector<double> dev(host);\n",
        "    auto copia_f = std::chrono::steady_clock::now();\n",
        "    diff = copia_f - copia_i;\n",
        "    cout << \"Tempo de CÓPIA (em segundos): \" << diff.count() << endl;\n",
        "\n",
        "    return 0;\n",
        "}\n"
      ],
      "metadata": {
        "id": "ZgNOA9ImJ9DQ",
        "colab": {
          "base_uri": "https://localhost:8080/"
        },
        "outputId": "267c7715-1c7f-4bb4-e77c-712b4405649c"
      },
      "execution_count": 1,
      "outputs": [
        {
          "output_type": "stream",
          "name": "stdout",
          "text": [
            "Overwriting exercicio1.cu\n"
          ]
        }
      ]
    },
    {
      "cell_type": "code",
      "source": [
        "!nvcc -arch=sm_75 -std=c++14 exercicio1.cu -o exercicio1"
      ],
      "metadata": {
        "id": "3EeQpYDiNngO"
      },
      "execution_count": 2,
      "outputs": []
    },
    {
      "cell_type": "code",
      "source": [
        "!./exercicio1"
      ],
      "metadata": {
        "colab": {
          "base_uri": "https://localhost:8080/"
        },
        "id": "dAnL14cnNwz3",
        "outputId": "f0b3df77-2284-4183-9bfa-16e68e4f3cc2"
      },
      "execution_count": 3,
      "outputs": [
        {
          "output_type": "stream",
          "name": "stdout",
          "text": [
            "Tempo de LEITURA (em segundos): 0.000901912\n",
            "Tempo de CÓPIA (em segundos): 0.265189\n"
          ]
        }
      ]
    },
    {
      "cell_type": "markdown",
      "source": [
        "RESPOSTA EX.1:\n",
        "\n",
        "Tempo de LEITURA (em segundos): 0.00115736\n",
        "\n",
        "Tempo de CÓPIA (em segundos): 0.162707"
      ],
      "metadata": {
        "id": "JNwKi3HZYlBD"
      }
    },
    {
      "cell_type": "code",
      "source": [
        "%%writefile exercicio2.cu\n",
        "#include <thrust/device_vector.h>\n",
        "#include <thrust/host_vector.h>\n",
        "#include <thrust/reduce.h>\n",
        "#include <thrust/extrema.h>\n",
        "#include <iostream>\n",
        "#include <fstream>\n",
        "using namespace std;\n",
        "\n",
        "int main() {\n",
        "    int n = 2518;\n",
        "    double value = 0.0;\n",
        "\n",
        "    // Leitura dos dados na CPU\n",
        "    thrust::host_vector<double> host(n, 0);\n",
        "    ifstream inputFile(\"stocks-google.txt\");\n",
        "    if (inputFile.is_open()) {\n",
        "        for (int i = 0; i < n; i++) {\n",
        "            inputFile >> value;\n",
        "            host[i] = value;\n",
        "        }\n",
        "        inputFile.close();\n",
        "    } else {\n",
        "        cerr << \"Erro ao abrir o arquivo.\" << endl;\n",
        "        return 1;\n",
        "    }\n",
        "\n",
        "    // Transferência dos dados para a GPU\n",
        "    thrust::device_vector<double> stocks(host);\n",
        "\n",
        "    // Cálculo da média de todos os preços\n",
        "    double total_sum = thrust::reduce(stocks.begin(), stocks.end(), 0.0, thrust::plus<double>());\n",
        "    double media_total = total_sum / stocks.size();\n",
        "    std::cout << \"Média total: \" << media_total << std::endl;\n",
        "\n",
        "    // Cálculo da média dos últimos 365 dias\n",
        "    int ultimos_365 = 365;\n",
        "    double sum_365 = thrust::reduce(stocks.end() - ultimos_365, stocks.end(), 0.0, thrust::plus<double>());\n",
        "    double media_365 = sum_365 / ultimos_365;\n",
        "    std::cout << \"Média dos últimos 365 dias: \" << media_365 << std::endl;\n",
        "\n",
        "    // Cálculo do maior e menor preço\n",
        "    double max_price = *thrust::max_element(stocks.begin(), stocks.end());\n",
        "    double min_price = *thrust::min_element(stocks.begin(), stocks.end());\n",
        "    std::cout << \"Preço máximo: \" << max_price << std::endl;\n",
        "    std::cout << \"Preço mínimo: \" << min_price << std::endl;\n",
        "\n",
        "    return 0;\n",
        "}"
      ],
      "metadata": {
        "colab": {
          "base_uri": "https://localhost:8080/"
        },
        "id": "hmg6GPR1O2Ec",
        "outputId": "49a7526e-44f1-4a17-c81d-3dd8336fd63b"
      },
      "execution_count": 4,
      "outputs": [
        {
          "output_type": "stream",
          "name": "stdout",
          "text": [
            "Writing exercicio2.cu\n"
          ]
        }
      ]
    },
    {
      "cell_type": "code",
      "source": [
        "!nvcc -arch=sm_75 -std=c++14 exercicio2.cu -o exercicio2"
      ],
      "metadata": {
        "id": "RKtzLCB8O2yH"
      },
      "execution_count": 5,
      "outputs": []
    },
    {
      "cell_type": "code",
      "source": [
        "!./exercicio2"
      ],
      "metadata": {
        "colab": {
          "base_uri": "https://localhost:8080/"
        },
        "id": "eKXkMnYfQm27",
        "outputId": "766f898c-4916-4e38-ab07-27c18064bc31"
      },
      "execution_count": 6,
      "outputs": [
        {
          "output_type": "stream",
          "name": "stdout",
          "text": [
            "Média total: 1556.55\n",
            "Média dos últimos 365 dias: 1580.35\n",
            "Preço máximo: 2200\n",
            "Preço mínimo: 1015.24\n"
          ]
        }
      ]
    },
    {
      "cell_type": "markdown",
      "source": [
        "RESPOSTA EX.2:\n",
        "\n",
        "Média total: 1556.55\n",
        "\n",
        "Média dos últimos 365 dias: 1580.35\n",
        "\n",
        "Preço máximo: 2200\n",
        "\n",
        "Preço mínimo: 1015.24\n"
      ],
      "metadata": {
        "id": "FVxAcXhjYu4c"
      }
    },
    {
      "cell_type": "code",
      "source": [
        "%%writefile exercicio3.cu\n",
        "#include <thrust/device_vector.h>\n",
        "#include <thrust/host_vector.h>\n",
        "#include <thrust/transform.h>\n",
        "#include <iostream>\n",
        "#include <fstream>\n",
        "#include <sstream>\n",
        "\n",
        "using namespace std;\n",
        "\n",
        "int main() {\n",
        "    thrust::host_vector<double> AAPL(28);\n",
        "    thrust::host_vector<double> MSFT(28);\n",
        "\n",
        "    ifstream inputFile(\"stocks2.txt\");\n",
        "    if (inputFile.is_open()) {\n",
        "        string line;\n",
        "        int i = 0;\n",
        "        while (getline(inputFile, line) && i < 28) {\n",
        "            stringstream ss(line);\n",
        "            string value;\n",
        "            getline(ss, value, ',');\n",
        "            AAPL[i] = stod(value);\n",
        "            getline(ss, value, ',');\n",
        "            MSFT[i] = stod(value);\n",
        "            i++;\n",
        "        }\n",
        "        inputFile.close();\n",
        "    } else {\n",
        "        cerr << \"Erro ao abrir o arquivo.\" << endl;\n",
        "        return 1;\n",
        "    }\n",
        "\n",
        "    thrust::device_vector<double> d_AAPL = AAPL;\n",
        "    thrust::device_vector<double> d_MSFT = MSFT;\n",
        "    thrust::device_vector<double> diff(28);\n",
        "\n",
        "    thrust::transform(d_AAPL.begin(), d_AAPL.end(), d_MSFT.begin(), diff.begin(), thrust::minus<double>());\n",
        "\n",
        "    for (int i = 0; i < diff.size(); i++) {\n",
        "        std::cout << \"Diferença \" << i << \": \" << diff[i] << std::endl;\n",
        "    }\n",
        "\n",
        "    return 0;\n",
        "}"
      ],
      "metadata": {
        "colab": {
          "base_uri": "https://localhost:8080/"
        },
        "id": "CiNgadiLQshU",
        "outputId": "ce4a15ac-6f21-465b-fe55-2a73c43d79ef"
      },
      "execution_count": 11,
      "outputs": [
        {
          "output_type": "stream",
          "name": "stdout",
          "text": [
            "Overwriting exercicio3.cu\n"
          ]
        }
      ]
    },
    {
      "cell_type": "code",
      "source": [
        "!nvcc -arch=sm_75 -std=c++14 exercicio3.cu -o exercicio3"
      ],
      "metadata": {
        "id": "QoCyWkefQyFv"
      },
      "execution_count": 12,
      "outputs": []
    },
    {
      "cell_type": "code",
      "source": [
        "!./exercicio3"
      ],
      "metadata": {
        "colab": {
          "base_uri": "https://localhost:8080/"
        },
        "id": "IRJ1IxeYQ079",
        "outputId": "0a94fd32-8274-4cfe-8835-d2d8b4af561e"
      },
      "execution_count": 13,
      "outputs": [
        {
          "output_type": "stream",
          "name": "stdout",
          "text": [
            "Diferença 0: -50.1\n",
            "Diferença 1: -48.75\n",
            "Diferença 2: -51.5\n",
            "Diferença 3: -49.5\n",
            "Diferença 4: -50.5\n",
            "Diferença 5: -50.5\n",
            "Diferença 6: -50.5\n",
            "Diferença 7: -49.25\n",
            "Diferença 8: -50\n",
            "Diferença 9: -50.25\n",
            "Diferença 10: -50.25\n",
            "Diferença 11: -50.75\n",
            "Diferença 12: -49.75\n",
            "Diferença 13: -49.75\n",
            "Diferença 14: -50.5\n",
            "Diferença 15: -50.5\n",
            "Diferença 16: -50.5\n",
            "Diferença 17: -50.25\n",
            "Diferença 18: -50.25\n",
            "Diferença 19: -51\n",
            "Diferença 20: -51.5\n",
            "Diferença 21: -51.25\n",
            "Diferença 22: -51.75\n",
            "Diferença 23: -51.75\n",
            "Diferença 24: -51.75\n",
            "Diferença 25: -52.75\n",
            "Diferença 26: -52.25\n",
            "Diferença 27: -52.25\n"
          ]
        }
      ]
    },
    {
      "cell_type": "markdown",
      "source": [
        "Resposta Ex.3:\n",
        "\n",
        "Diferença 0: -50.1\n",
        "Diferença 1: -48.75\n",
        "Diferença 2: -51.5\n",
        "Diferença 3: -49.5\n",
        "Diferença 4: -50.5\n",
        "Diferença 5: -50.5\n",
        "Diferença 6: -50.5\n",
        "Diferença 7: -49.25\n",
        "Diferença 8: -50\n",
        "Diferença 9: -50.25\n",
        "Diferença 10: -50.25\n",
        "Diferença 11: -50.75\n",
        "Diferença 12: -49.75\n",
        "Diferença 13: -49.75\n",
        "Diferença 14: -50.5\n",
        "Diferença 15: -50.5\n",
        "Diferença 16: -50.5\n",
        "Diferença 17: -50.25\n",
        "Diferença 18: -50.25\n",
        "Diferença 19: -51\n",
        "Diferença 20: -51.5\n",
        "Diferença 21: -51.25\n",
        "Diferença 22: -51.75\n",
        "Diferença 23: -51.75\n",
        "Diferença 24: -51.75\n",
        "Diferença 25: -52.75\n",
        "Diferença 26: -52.25\n",
        "Diferença 27: -52.25"
      ],
      "metadata": {
        "id": "ZHC9sOZ7ag11"
      }
    }
  ]
}