{
  "nbformat": 4,
  "nbformat_minor": 0,
  "metadata": {
    "colab": {
      "provenance": [],
      "gpuType": "T4"
    },
    "kernelspec": {
      "name": "python3",
      "display_name": "Python 3"
    },
    "language_info": {
      "name": "python"
    },
    "accelerator": "GPU"
  },
  "cells": [
    {
      "cell_type": "code",
      "source": [
        "%%writefile aula11.cu\n",
        "#include <iostream>\n",
        "#include <fstream>\n",
        "#include <vector>\n",
        "#include <thrust/host_vector.h>\n",
        "#include <thrust/device_vector.h>\n",
        "#include <thrust/transform.h>\n",
        "#include <thrust/reduce.h>\n",
        "#include <thrust/count.h>\n",
        "#include <thrust/iterator/constant_iterator.h>\n",
        "#include <thrust/replace.h>\n",
        "#include <thrust/functional.h> // Necessário para thrust::minus e thrust::multiplies\n",
        "\n",
        "int main() {\n",
        "    // Abrindo o arquivo para leitura\n",
        "    std::ifstream file(\"stocks-google.txt\");\n",
        "    if (!file.is_open()) {\n",
        "        std::cerr << \"Erro ao abrir o arquivo!\" << std::endl;\n",
        "        return 1;\n",
        "    }\n",
        "\n",
        "    std::vector<float> stocks;\n",
        "    float price;\n",
        "\n",
        "    // Lê os dados do arquivo e armazena no vetor\n",
        "    while (file >> price) {\n",
        "        stocks.push_back(price);\n",
        "    }\n",
        "\n",
        "    file.close();\n",
        "\n",
        "    // Converte o vetor padrão do C++ para um vetor da Thrust\n",
        "    thrust::host_vector<float> h_stocks(stocks.begin(), stocks.end());\n",
        "    thrust::device_vector<float> d_stocks = h_stocks;\n",
        "\n",
        "    int n = d_stocks.size();\n",
        "\n",
        "    // Verifica se há dados suficientes para calcular as variações\n",
        "    if (n < 2) {\n",
        "        std::cerr << \"Dados insuficientes para calcular variações diárias!\" << std::endl;\n",
        "        return 1;\n",
        "    }\n",
        "\n",
        "    // Vetor para armazenar os ganhos diários\n",
        "    thrust::device_vector<float> ganho_diario(n - 1);\n",
        "\n",
        "    // Calcula as diferenças diárias usando thrust::transform\n",
        "    thrust::transform(d_stocks.begin() + 1, d_stocks.end(), d_stocks.begin(), ganho_diario.begin(), thrust::minus<float>());\n",
        "\n",
        "    // Contagem de quantos dias o preço subiu\n",
        "    int num_increases = thrust::count_if(ganho_diario.begin(), ganho_diario.end(),\n",
        "                                         [] __device__ (const float& x) { return x > 0; });\n",
        "\n",
        "    std::cout << \"Número de dias com aumento no preço: \" << num_increases << std::endl;\n",
        "\n",
        "    // Substitui valores negativos por zero\n",
        "    thrust::replace_if(ganho_diario.begin(), ganho_diario.end(), ganho_diario.begin(), thrust::placeholders::_1 < 0, 0.0f);\n",
        "\n",
        "    // Soma os ganhos totais\n",
        "    float total_increase = thrust::reduce(ganho_diario.begin(), ganho_diario.end(), 0.0f, thrust::plus<float>());\n",
        "\n",
        "    // Calcula o aumento médio nos dias com aumento\n",
        "    float avg_increase = (num_increases > 0) ? total_increase / num_increases : 0.0f;\n",
        "\n",
        "    std::cout << \"Aumento médio nos dias com alta: \" << avg_increase << std::endl;\n",
        "\n",
        "    // Calcula a média dos preços das ações\n",
        "    float mean = thrust::reduce(d_stocks.begin(), d_stocks.end()) / n;\n",
        "\n",
        "    // Vetor para armazenar as diferenças ao quadrado\n",
        "    thrust::device_vector<float> squared_diff(n);\n",
        "\n",
        "    // Usa um iterador constante para a média e calcula (x_i - μ)^2\n",
        "    thrust::constant_iterator<float> mean_iter(mean);\n",
        "    thrust::transform(d_stocks.begin(), d_stocks.end(), mean_iter, squared_diff.begin(),\n",
        "                      thrust::minus<float>());\n",
        "    thrust::transform(squared_diff.begin(), squared_diff.end(), squared_diff.begin(),\n",
        "                      squared_diff.begin(), thrust::multiplies<float>());\n",
        "\n",
        "    // Calcula a variância\n",
        "    float variance = thrust::reduce(squared_diff.begin(), squared_diff.end()) / n;\n",
        "\n",
        "    std::cout << \"Variância: \" << variance << std::endl;\n",
        "\n",
        "    return 0;\n",
        "}\n"
      ],
      "metadata": {
        "colab": {
          "base_uri": "https://localhost:8080/"
        },
        "id": "2MVgcI7dZFiG",
        "outputId": "2d5fff4f-7c9c-46e7-a567-adbbc2d8a4f6"
      },
      "execution_count": 12,
      "outputs": [
        {
          "output_type": "stream",
          "name": "stdout",
          "text": [
            "Overwriting aula11.cu\n"
          ]
        }
      ]
    },
    {
      "cell_type": "code",
      "source": [
        "!nvcc aula11.cu -o aula11 --extended-lambda"
      ],
      "metadata": {
        "id": "XJSqPRtIZme0"
      },
      "execution_count": 15,
      "outputs": []
    },
    {
      "cell_type": "code",
      "source": [
        "!./aula11"
      ],
      "metadata": {
        "colab": {
          "base_uri": "https://localhost:8080/"
        },
        "id": "oTw_WlonaIE4",
        "outputId": "5784d18f-491a-48b8-fd6a-9f84c27ada55"
      },
      "execution_count": 18,
      "outputs": [
        {
          "output_type": "stream",
          "name": "stdout",
          "text": [
            "Número de dias com aumento no preço: 3056\n",
            "Aumento médio nos dias com alta: 3.15251\n",
            "Variância: 123792\n"
          ]
        }
      ]
    }
  ]
}